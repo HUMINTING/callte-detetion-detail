{
  "cells": [
    {
      "cell_type": "markdown",
      "metadata": {
        "id": "view-in-github",
        "colab_type": "text"
      },
      "source": [
        "<a href=\"https://colab.research.google.com/github/HUMINTING/callte-detetion-detail/blob/main/yolov8.ipynb\" target=\"_parent\"><img src=\"https://colab.research.google.com/assets/colab-badge.svg\" alt=\"Open In Colab\"/></a>"
      ]
    },
    {
      "cell_type": "markdown",
      "source": [
        " Google ドライブを Google Colab 仮想マシンのファイルシステムにマウントします。"
      ],
      "metadata": {
        "id": "LxBtMPg2kE_x"
      }
    },
    {
      "cell_type": "code",
      "execution_count": null,
      "metadata": {
        "id": "NapaU9ZvMxVs"
      },
      "outputs": [],
      "source": [
        "from google.colab import drive\n",
        "drive.mount('/content/drive')"
      ]
    },
    {
      "cell_type": "markdown",
      "source": [
        "検証セットデータをcolabにアップロードする"
      ],
      "metadata": {
        "id": "GyiA4NPwjtyD"
      }
    },
    {
      "cell_type": "code",
      "source": [
        "import shutil\n",
        "import os\n",
        "\n",
        "source_dir = \"/content/drive/MyDrive/new_estrus/yolo_7000/val_txt\"\n",
        "target_dir = \"/content/dataset/val\"\n",
        "\n",
        "for filename in os.listdir(source_dir):\n",
        "    shutil.copy(os.path.join(source_dir, filename), target_dir)\n"
      ],
      "metadata": {
        "id": "vlpBRIr-TJbv"
      },
      "execution_count": null,
      "outputs": []
    },
    {
      "cell_type": "markdown",
      "source": [
        "学習セットデータのラベルをcolabにアップロードする"
      ],
      "metadata": {
        "id": "Nk3s6_3rkkNH"
      }
    },
    {
      "cell_type": "code",
      "source": [
        "import shutil\n",
        "import os\n",
        "\n",
        "source_dir = \"/content/drive/MyDrive/new_estrus/label/labels\"\n",
        "target_dir = \"/content/dataset/train/labels\"\n",
        "\n",
        "for filename in os.listdir(source_dir):\n",
        "    shutil.copy(os.path.join(source_dir, filename), target_dir)\n"
      ],
      "metadata": {
        "id": "D2u8KHb_0Oal"
      },
      "execution_count": null,
      "outputs": []
    },
    {
      "cell_type": "markdown",
      "source": [
        "学習セットデータの画像をcolabにアップロードする"
      ],
      "metadata": {
        "id": "9FtH-s7IkyVW"
      }
    },
    {
      "cell_type": "code",
      "source": [
        "import shutil\n",
        "import os\n",
        "\n",
        "source_dir = \"/content/drive/MyDrive/new_estrus/label/images\"\n",
        "target_dir = \"/content/dataset/train/images\"\n",
        "\n",
        "for filename in os.listdir(source_dir):\n",
        "    shutil.copy(os.path.join(source_dir, filename), target_dir)\n"
      ],
      "metadata": {
        "id": "jlItJqEFAjXE"
      },
      "execution_count": null,
      "outputs": []
    },
    {
      "cell_type": "markdown",
      "source": [
        "モデルをcolabにアップロードする"
      ],
      "metadata": {
        "id": "IagVgwC3k5KS"
      }
    },
    {
      "cell_type": "code",
      "source": [
        "!cp -r \"/content/drive/MyDrive/pretrained_model/yolov8-main\" \"/content\"\n"
      ],
      "metadata": {
        "id": "ziwS2uqUGJUl"
      },
      "execution_count": null,
      "outputs": []
    },
    {
      "cell_type": "code",
      "source": [
        "!pip install thop"
      ],
      "metadata": {
        "id": "g27gRmOM2pFJ"
      },
      "execution_count": null,
      "outputs": []
    },
    {
      "cell_type": "markdown",
      "source": [
        "yolov8_main ファイルを開きます"
      ],
      "metadata": {
        "id": "X-guIv6tmj1M"
      }
    },
    {
      "cell_type": "code",
      "source": [
        "%cd /content/yolov8-main\n"
      ],
      "metadata": {
        "id": "0vk0-5qKiF1X"
      },
      "execution_count": null,
      "outputs": []
    },
    {
      "cell_type": "code",
      "source": [
        "!pip install -r requirements.txt\n"
      ],
      "metadata": {
        "id": "z8MTztwYi9r3"
      },
      "execution_count": null,
      "outputs": []
    },
    {
      "cell_type": "code",
      "source": [
        "!pip install timm\n"
      ],
      "metadata": {
        "id": "tRore2XOjM9J"
      },
      "execution_count": null,
      "outputs": []
    },
    {
      "cell_type": "code",
      "source": [
        "!pip install einops\n"
      ],
      "metadata": {
        "id": "rDTCZr_4jYsP"
      },
      "execution_count": null,
      "outputs": []
    },
    {
      "cell_type": "code",
      "source": [
        "!pip install -r /content/yolov8-main/requirements.txt\n"
      ],
      "metadata": {
        "id": "e37xRPgejgwD"
      },
      "execution_count": null,
      "outputs": []
    },
    {
      "cell_type": "code",
      "source": [
        "!pip install efficientnet_pytorch\n"
      ],
      "metadata": {
        "id": "clPKIcxBjr61"
      },
      "execution_count": null,
      "outputs": []
    },
    {
      "cell_type": "code",
      "source": [
        "!pip install Pillow\n"
      ],
      "metadata": {
        "id": "ciEb-NUYrEqE"
      },
      "execution_count": null,
      "outputs": []
    },
    {
      "cell_type": "markdown",
      "source": [
        "学習する"
      ],
      "metadata": {
        "id": "47XXma3-mwxT"
      }
    },
    {
      "cell_type": "code",
      "source": [
        "!python train.py"
      ],
      "metadata": {
        "id": "JlRArf7PYS1W"
      },
      "execution_count": null,
      "outputs": []
    },
    {
      "cell_type": "markdown",
      "source": [
        "検証する（実際にData-yolov8-improveテストセットを使用してこのステップを実行します）"
      ],
      "metadata": {
        "id": "sLtQUk7gm3sg"
      }
    },
    {
      "cell_type": "code",
      "source": [
        "!python val.py"
      ],
      "metadata": {
        "id": "uAqhSLvlmu1J"
      },
      "execution_count": null,
      "outputs": []
    },
    {
      "cell_type": "markdown",
      "source": [
        "結果をGoogle ドライブに保存する"
      ],
      "metadata": {
        "id": "Q46RdyE9m7a5"
      }
    },
    {
      "cell_type": "code",
      "source": [
        "import shutil\n",
        "\n",
        "source_dir = \"/content/result\"\n",
        "dest_dir = \"/content/drive/MyDrive/new_estrus/train_results_focal\"\n",
        "\n",
        "shutil.copytree(source_dir, dest_dir)\n"
      ],
      "metadata": {
        "id": "VHeDEInqZEZO"
      },
      "execution_count": null,
      "outputs": []
    },
    {
      "cell_type": "markdown",
      "source": [
        "分類テストする(実際にData-YOLOv8vsRetinanetテストセットを使用してこのステップを実行します）"
      ],
      "metadata": {
        "id": "GHXJmmwKnIq8"
      }
    },
    {
      "cell_type": "code",
      "source": [
        "import torch\n",
        "from ultralytics import YOLO\n",
        "import os\n",
        "import json\n",
        "import gc\n",
        "\n",
        "# 设置置信度阈值和批处理大小\n",
        "confidence_threshold = 0.5\n",
        "\n",
        "# 加载模型\n",
        "model = YOLO('/content/drive/MyDrive/new_estrus/train_results_focal/weights/best.pt')\n",
        "\n",
        "# 数据集路径\n",
        "val_data_path = \"/content/drive/MyDrive/new_estrus/test/true\"\n",
        "\n",
        "# 初始化统计数据\n",
        "statistics = {\n",
        "    'TP_estrus': 0, 'TN_estrus': 0, 'FP_estrus': 0, 'FN_estrus': 0,\n",
        "    'TP_standing_mounting': 0, 'TN_standing_mounting': 0, 'FP_standing_mounting': 0, 'FN_standing_mounting': 0,\n",
        "    'TP_mounting': 0, 'TN_mounting': 0, 'FP_mounting': 0, 'FN_mounting': 0\n",
        "}\n",
        "\n",
        "# 收集所有图像文件的路径\n",
        "image_paths = [os.path.join(val_data_path, f) for f in os.listdir(val_data_path) if f.endswith(('.jpg', '.png'))]\n",
        "\n",
        "# 处理图像文件\n",
        "for image_path in image_paths:\n",
        "    results = model.predict(image_path)\n",
        "\n",
        "    for result in results:\n",
        "        predicted_classes = [int(box.cls) for box in result.boxes if box.conf >= confidence_threshold] if result.boxes else []\n",
        "\n",
        "        # 假设所有merged_true图片的真实标签都是1\n",
        "        true_label = 1\n",
        "\n",
        "        # 更新统计数据\n",
        "        prediction_S_M = 1 if 0 in predicted_classes else 0\n",
        "        prediction_M_Only = 1 if 1 in predicted_classes else 0\n",
        "        prediction_AND = 1 if (0 in predicted_classes) and (1 in predicted_classes) else 0\n",
        "\n",
        "        statistics['TP_standing_mounting'] += int(prediction_S_M == 1 and true_label == 1)\n",
        "        statistics['TN_standing_mounting'] += int(prediction_S_M == 0 and true_label == 0)\n",
        "        statistics['FP_standing_mounting'] += int(prediction_S_M == 1 and true_label == 0)\n",
        "        statistics['FN_standing_mounting'] += int(prediction_S_M == 0 and true_label == 1)\n",
        "\n",
        "        statistics['TP_mounting'] += int(prediction_M_Only == 1 and true_label == 1)\n",
        "        statistics['TN_mounting'] += int(prediction_M_Only == 0 and true_label == 0)\n",
        "        statistics['FP_mounting'] += int(prediction_M_Only == 1 and true_label == 0)\n",
        "        statistics['FN_mounting'] += int(prediction_M_Only == 0 and true_label == 1)\n",
        "\n",
        "        statistics['TP_estrus'] += int(prediction_AND == 1 and true_label == 1)\n",
        "        statistics['TN_estrus'] += int(prediction_AND == 0 and true_label == 0)\n",
        "        statistics['FP_estrus'] += int(prediction_AND == 1 and true_label == 0)\n",
        "        statistics['FN_estrus'] += int(prediction_AND == 0 and true_label == 1)\n",
        "\n",
        "    gc.collect()\n",
        "\n",
        "# 计算精确度和召回率\n",
        "def calculate_metrics(TP, TN, FP, FN):\n",
        "    precision = TP / (TP + FP) if (TP + FP) > 0 else 0\n",
        "    recall = TP / (TP + FN) if (TP + FN) > 0 else 0\n",
        "    return precision, recall\n",
        "\n",
        "precision_standing_mounting, recall_standing_mounting = calculate_metrics(statistics['TP_standing_mounting'], statistics['TN_standing_mounting'], statistics['FP_standing_mounting'], statistics['FN_standing_mounting'])\n",
        "precision_mounting, recall_mounting = calculate_metrics(statistics['TP_mounting'], statistics['TN_mounting'], statistics['FP_mounting'], statistics['FN_mounting'])\n",
        "precision_estrus, recall_estrus = calculate_metrics(statistics['TP_estrus'], statistics['TN_estrus'], statistics['FP_estrus'], statistics['FN_estrus'])\n",
        "\n",
        "# 输出结果\n",
        "print(f\"Standing Mounting - Precision: {precision_standing_mounting:.2f}, Recall: {recall_standing_mounting:.2f}\")\n",
        "print(f\"Mounting - Precision: {precision_mounting:.2f}, Recall: {recall_mounting:.2f}\")\n",
        "print(f\"Estrus - Precision: {precision_estrus:.2f}, Recall: {recall_estrus:.2f}\")\n",
        "\n",
        "# 保存统计结果的路径\n",
        "statistics_save_path = '/content/drive/MyDrive/new_estrus/test/statistics_T.json'\n",
        "# Save the statistics to a JSON file\n",
        "with open(statistics_save_path, 'w') as file:\n",
        "    json.dump(statistics, file, indent=4)\n",
        "\n",
        "print(f\"Statistics saved to {statistics_save_path}\")\n",
        "\n"
      ],
      "metadata": {
        "id": "GkHBdzKRdtuU"
      },
      "execution_count": null,
      "outputs": []
    },
    {
      "cell_type": "code",
      "source": [
        "import torch\n",
        "from ultralytics import YOLO\n",
        "import os\n",
        "import json\n",
        "import gc\n",
        "\n",
        "# 设置置信度阈值和批处理大小\n",
        "confidence_threshold = 0.5\n",
        "\n",
        "# 加载模型\n",
        "model = YOLO('/content/drive/MyDrive/new_estrus/train_results_focal/weights/best.pt')\n",
        "\n",
        "# 数据集路径\n",
        "val_data_path = \"/content/drive/MyDrive/new_estrus/test/false\"\n",
        "\n",
        "# 初始化统计数据\n",
        "statistics = {\n",
        "    'TP_estrus': 0, 'TN_estrus': 0, 'FP_estrus': 0, 'FN_estrus': 0,\n",
        "    'TP_standing_mounting': 0, 'TN_standing_mounting': 0, 'FP_standing_mounting': 0, 'FN_standing_mounting': 0,\n",
        "    'TP_mounting': 0, 'TN_mounting': 0, 'FP_mounting': 0, 'FN_mounting': 0\n",
        "}\n",
        "\n",
        "# 收集所有图像文件的路径\n",
        "image_paths = [os.path.join(val_data_path, f) for f in os.listdir(val_data_path) if f.endswith(('.jpg', '.png'))]\n",
        "\n",
        "# 处理图像文件\n",
        "for image_path in image_paths:\n",
        "    results = model.predict(image_path)\n",
        "\n",
        "    for result in results:\n",
        "        predicted_classes = [int(box.cls) for box in result.boxes if box.conf >= confidence_threshold] if result.boxes else []\n",
        "\n",
        "        # 假设所有merged_true图片的真实标签都是1\n",
        "        true_label = 1\n",
        "\n",
        "        # 更新统计数据\n",
        "        prediction_S_M = 1 if 0 in predicted_classes else 0\n",
        "        prediction_M_Only = 1 if 1 in predicted_classes else 0\n",
        "        prediction_AND = 1 if (0 in predicted_classes) and (1 in predicted_classes) else 0\n",
        "\n",
        "        statistics['TP_standing_mounting'] += int(prediction_S_M == 1 and true_label == 1)\n",
        "        statistics['TN_standing_mounting'] += int(prediction_S_M == 0 and true_label == 0)\n",
        "        statistics['FP_standing_mounting'] += int(prediction_S_M == 1 and true_label == 0)\n",
        "        statistics['FN_standing_mounting'] += int(prediction_S_M == 0 and true_label == 1)\n",
        "\n",
        "        statistics['TP_mounting'] += int(prediction_M_Only == 1 and true_label == 1)\n",
        "        statistics['TN_mounting'] += int(prediction_M_Only == 0 and true_label == 0)\n",
        "        statistics['FP_mounting'] += int(prediction_M_Only == 1 and true_label == 0)\n",
        "        statistics['FN_mounting'] += int(prediction_M_Only == 0 and true_label == 1)\n",
        "\n",
        "        statistics['TP_estrus'] += int(prediction_AND == 1 and true_label == 1)\n",
        "        statistics['TN_estrus'] += int(prediction_AND == 0 and true_label == 0)\n",
        "        statistics['FP_estrus'] += int(prediction_AND == 1 and true_label == 0)\n",
        "        statistics['FN_estrus'] += int(prediction_AND == 0 and true_label == 1)\n",
        "\n",
        "    gc.collect()\n",
        "\n",
        "# 计算精确度和召回率\n",
        "def calculate_metrics(TP, TN, FP, FN):\n",
        "    precision = TP / (TP + FP) if (TP + FP) > 0 else 0\n",
        "    recall = TP / (TP + FN) if (TP + FN) > 0 else 0\n",
        "    return precision, recall\n",
        "\n",
        "precision_standing_mounting, recall_standing_mounting = calculate_metrics(statistics['TP_standing_mounting'], statistics['TN_standing_mounting'], statistics['FP_standing_mounting'], statistics['FN_standing_mounting'])\n",
        "precision_mounting, recall_mounting = calculate_metrics(statistics['TP_mounting'], statistics['TN_mounting'], statistics['FP_mounting'], statistics['FN_mounting'])\n",
        "precision_estrus, recall_estrus = calculate_metrics(statistics['TP_estrus'], statistics['TN_estrus'], statistics['FP_estrus'], statistics['FN_estrus'])\n",
        "\n",
        "# 输出结果\n",
        "print(f\"Standing Mounting - Precision: {precision_standing_mounting:.2f}, Recall: {recall_standing_mounting:.2f}\")\n",
        "print(f\"Mounting - Precision: {precision_mounting:.2f}, Recall: {recall_mounting:.2f}\")\n",
        "print(f\"Estrus - Precision: {precision_estrus:.2f}, Recall: {recall_estrus:.2f}\")\n",
        "\n",
        "# 保存统计结果的路径\n",
        "statistics_save_path = '/content/drive/MyDrive/new_estrus/test/statistics_F.json'\n",
        "# Save the statistics to a JSON file\n",
        "with open(statistics_save_path, 'w') as file:\n",
        "    json.dump(statistics, file, indent=4)\n",
        "\n",
        "print(f\"Statistics saved to {statistics_save_path}\")\n",
        "\n"
      ],
      "metadata": {
        "id": "Amiy6TDCBD5Z"
      },
      "execution_count": null,
      "outputs": []
    }
  ],
  "metadata": {
    "colab": {
      "provenance": [],
      "gpuType": "V100",
      "private_outputs": true,
      "cell_execution_strategy": "setup",
      "machine_shape": "hm",
      "include_colab_link": true
    },
    "kernelspec": {
      "display_name": "Python 3",
      "name": "python3"
    },
    "language_info": {
      "name": "python"
    },
    "accelerator": "GPU"
  },
  "nbformat": 4,
  "nbformat_minor": 0
}